{
  "metadata": {
    "kernelspec": {
      "name": "python",
      "display_name": "Python (Pyodide)",
      "language": "python"
    },
    "language_info": {
      "codemirror_mode": {
        "name": "python",
        "version": 3
      },
      "file_extension": ".py",
      "mimetype": "text/x-python",
      "name": "python",
      "nbconvert_exporter": "python",
      "pygments_lexer": "ipython3",
      "version": "3.8"
    }
  },
  "nbformat_minor": 5,
  "nbformat": 4,
  "cells": [
    {
      "id": "30c551eb-68ad-46d5-ab96-6d786e8eab30",
      "cell_type": "markdown",
      "source": "# Data Science Tools and Ecosystems",
      "metadata": {}
    },
    {
      "id": "0b0f34cd-673d-4958-92d4-6be8d35fa58e",
      "cell_type": "markdown",
      "source": "In this notebook, data Science Tools and Ecosystem are summarised",
      "metadata": {}
    },
    {
      "id": "dd481f1b-d312-4560-ba0d-18c68422bcd8",
      "cell_type": "markdown",
      "source": "**Objectives**\nSome of the key takeaways from the cause include:\n*List some of the commonly used libraries\n*List some popular languages\n*Drawing a table in markdown to show a list of developmental environment tools\n",
      "metadata": {}
    },
    {
      "id": "bda70240-0926-42ed-89a2-bbf6f4222d56",
      "cell_type": "code",
      "source": "Some of the popular languages that Data Scientists use are:\n1.Python\n2.R\n3.SQL\n4.Scala\n5.Java\n6.C++\n7.Julia\n8.JavaScript\n9.PHP\n10.Go\n",
      "metadata": {
        "trusted": true
      },
      "outputs": [],
      "execution_count": null
    },
    {
      "id": "44dfe480-72a1-4dcc-9da2-d31ec5a7a56f",
      "cell_type": "markdown",
      "source": "Some of the commonly used libraries used by Data scientists include\n1.Python libraries\n2.Pandas libraries\n3.Numpy libraries\n4.Seaborn libraries\n5.Scala libraries\n6.R libraries\n7.ggplot2\n",
      "metadata": {}
    },
    {
      "id": "ad61c8a5-9e50-4411-8d0a-0e0776f0078e",
      "cell_type": "markdown",
      "source": "|Data Science Tools|\n|:--------------------------------------------:|\n  jupyter Notebooks\n|---------------------------------------------|\n  JupyterLab\n|---------------------------------------------|\n  Apache Zappline\n|---------------------------------------------|",
      "metadata": {}
    },
    {
      "id": "679d40cb-f86a-40ba-9d25-1e77f54fa0d2",
      "cell_type": "markdown",
      "source": "###Below are a few example of evaluating arithmetic expressions in python",
      "metadata": {}
    },
    {
      "id": "4aca2205-69e7-48c1-adaa-652f0e08aa34",
      "cell_type": "code",
      "source": "This a simple arithmetic expression to multiply then add integers\n3*4+5",
      "metadata": {
        "trusted": true
      },
      "outputs": [
        {
          "execution_count": 3,
          "output_type": "execute_result",
          "data": {
            "text/plain": "17"
          },
          "metadata": {}
        }
      ],
      "execution_count": 3
    },
    {
      "id": "da1cfcd4-0345-4be6-8cb1-8ea252438da9",
      "cell_type": "code",
      "source": "This will convert 200 minutes to hours by diving by 60\n200/60",
      "metadata": {
        "trusted": true
      },
      "outputs": [
        {
          "execution_count": 4,
          "output_type": "execute_result",
          "data": {
            "text/plain": "3.3333333333333335"
          },
          "metadata": {}
        }
      ],
      "execution_count": 4
    },
    {
      "id": "47950802-a745-4623-b38f-121e9b8ccb8d",
      "cell_type": "markdown",
      "source": "## Author\n\nIan Sonata Kamwendo",
      "metadata": {}
    }
  ]
}